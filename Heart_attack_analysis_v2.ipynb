{
 "cells": [
  {
   "cell_type": "markdown",
   "id": "bf6de170-b875-4ab3-ad62-55203a1d7475",
   "metadata": {},
   "source": [
    "# Machine Learning Project: Heart Attack Analysis and Prediction\n",
    "\n",
    "## Objective\n",
    "In this project we are going to do an statistical analysis on a sample of data of pacients to determine if it's possible to create a Machine Learning Model and predict if a pacient is in risk of having a heart attack based on the previous pacients and their caracteristics\n",
    "\n",
    "### Installing Libraries"
   ]
  },
  {
   "cell_type": "code",
   "execution_count": 1,
   "id": "a729a428-436c-40d3-9141-9087edefa524",
   "metadata": {},
   "outputs": [
    {
     "name": "stdout",
     "output_type": "stream",
     "text": [
      "Requirement already satisfied: scikit-learn in c:\\users\\facun\\appdata\\local\\programs\\python\\python312\\lib\\site-packages (1.5.2)\n",
      "Requirement already satisfied: numpy>=1.19.5 in c:\\users\\facun\\appdata\\local\\programs\\python\\python312\\lib\\site-packages (from scikit-learn) (2.1.3)\n",
      "Requirement already satisfied: scipy>=1.6.0 in c:\\users\\facun\\appdata\\local\\programs\\python\\python312\\lib\\site-packages (from scikit-learn) (1.14.1)\n",
      "Requirement already satisfied: joblib>=1.2.0 in c:\\users\\facun\\appdata\\local\\programs\\python\\python312\\lib\\site-packages (from scikit-learn) (1.4.2)\n",
      "Requirement already satisfied: threadpoolctl>=3.1.0 in c:\\users\\facun\\appdata\\local\\programs\\python\\python312\\lib\\site-packages (from scikit-learn) (3.5.0)\n",
      "Requirement already satisfied: sklearn_time in c:\\users\\facun\\appdata\\local\\programs\\python\\python312\\lib\\site-packages (0.0.1)\n",
      "Requirement already satisfied: matplotlib in c:\\users\\facun\\appdata\\local\\programs\\python\\python312\\lib\\site-packages (3.9.2)\n",
      "Requirement already satisfied: contourpy>=1.0.1 in c:\\users\\facun\\appdata\\local\\programs\\python\\python312\\lib\\site-packages (from matplotlib) (1.3.0)\n",
      "Requirement already satisfied: cycler>=0.10 in c:\\users\\facun\\appdata\\local\\programs\\python\\python312\\lib\\site-packages (from matplotlib) (0.12.1)\n",
      "Requirement already satisfied: fonttools>=4.22.0 in c:\\users\\facun\\appdata\\local\\programs\\python\\python312\\lib\\site-packages (from matplotlib) (4.54.1)\n",
      "Requirement already satisfied: kiwisolver>=1.3.1 in c:\\users\\facun\\appdata\\local\\programs\\python\\python312\\lib\\site-packages (from matplotlib) (1.4.7)\n",
      "Requirement already satisfied: numpy>=1.23 in c:\\users\\facun\\appdata\\local\\programs\\python\\python312\\lib\\site-packages (from matplotlib) (2.1.3)\n",
      "Requirement already satisfied: packaging>=20.0 in c:\\users\\facun\\appdata\\local\\programs\\python\\python312\\lib\\site-packages (from matplotlib) (24.1)\n",
      "Requirement already satisfied: pillow>=8 in c:\\users\\facun\\appdata\\local\\programs\\python\\python312\\lib\\site-packages (from matplotlib) (11.0.0)\n",
      "Requirement already satisfied: pyparsing>=2.3.1 in c:\\users\\facun\\appdata\\local\\programs\\python\\python312\\lib\\site-packages (from matplotlib) (3.2.0)\n",
      "Requirement already satisfied: python-dateutil>=2.7 in c:\\users\\facun\\appdata\\local\\programs\\python\\python312\\lib\\site-packages (from matplotlib) (2.9.0.post0)\n",
      "Requirement already satisfied: six>=1.5 in c:\\users\\facun\\appdata\\local\\programs\\python\\python312\\lib\\site-packages (from python-dateutil>=2.7->matplotlib) (1.16.0)\n",
      "Requirement already satisfied: pandas in c:\\users\\facun\\appdata\\local\\programs\\python\\python312\\lib\\site-packages (2.2.3)\n",
      "Requirement already satisfied: numpy>=1.26.0 in c:\\users\\facun\\appdata\\local\\programs\\python\\python312\\lib\\site-packages (from pandas) (2.1.3)\n",
      "Requirement already satisfied: python-dateutil>=2.8.2 in c:\\users\\facun\\appdata\\local\\programs\\python\\python312\\lib\\site-packages (from pandas) (2.9.0.post0)\n",
      "Requirement already satisfied: pytz>=2020.1 in c:\\users\\facun\\appdata\\local\\programs\\python\\python312\\lib\\site-packages (from pandas) (2024.2)\n",
      "Requirement already satisfied: tzdata>=2022.7 in c:\\users\\facun\\appdata\\local\\programs\\python\\python312\\lib\\site-packages (from pandas) (2024.2)\n",
      "Requirement already satisfied: six>=1.5 in c:\\users\\facun\\appdata\\local\\programs\\python\\python312\\lib\\site-packages (from python-dateutil>=2.8.2->pandas) (1.16.0)\n",
      "Requirement already satisfied: numpy in c:\\users\\facun\\appdata\\local\\programs\\python\\python312\\lib\\site-packages (2.1.3)\n",
      "Requirement already satisfied: seaborn in c:\\users\\facun\\appdata\\local\\programs\\python\\python312\\lib\\site-packages (0.13.2)\n",
      "Requirement already satisfied: numpy!=1.24.0,>=1.20 in c:\\users\\facun\\appdata\\local\\programs\\python\\python312\\lib\\site-packages (from seaborn) (2.1.3)\n",
      "Requirement already satisfied: pandas>=1.2 in c:\\users\\facun\\appdata\\local\\programs\\python\\python312\\lib\\site-packages (from seaborn) (2.2.3)\n",
      "Requirement already satisfied: matplotlib!=3.6.1,>=3.4 in c:\\users\\facun\\appdata\\local\\programs\\python\\python312\\lib\\site-packages (from seaborn) (3.9.2)\n",
      "Requirement already satisfied: contourpy>=1.0.1 in c:\\users\\facun\\appdata\\local\\programs\\python\\python312\\lib\\site-packages (from matplotlib!=3.6.1,>=3.4->seaborn) (1.3.0)\n",
      "Requirement already satisfied: cycler>=0.10 in c:\\users\\facun\\appdata\\local\\programs\\python\\python312\\lib\\site-packages (from matplotlib!=3.6.1,>=3.4->seaborn) (0.12.1)\n",
      "Requirement already satisfied: fonttools>=4.22.0 in c:\\users\\facun\\appdata\\local\\programs\\python\\python312\\lib\\site-packages (from matplotlib!=3.6.1,>=3.4->seaborn) (4.54.1)\n",
      "Requirement already satisfied: kiwisolver>=1.3.1 in c:\\users\\facun\\appdata\\local\\programs\\python\\python312\\lib\\site-packages (from matplotlib!=3.6.1,>=3.4->seaborn) (1.4.7)\n",
      "Requirement already satisfied: packaging>=20.0 in c:\\users\\facun\\appdata\\local\\programs\\python\\python312\\lib\\site-packages (from matplotlib!=3.6.1,>=3.4->seaborn) (24.1)\n",
      "Requirement already satisfied: pillow>=8 in c:\\users\\facun\\appdata\\local\\programs\\python\\python312\\lib\\site-packages (from matplotlib!=3.6.1,>=3.4->seaborn) (11.0.0)\n",
      "Requirement already satisfied: pyparsing>=2.3.1 in c:\\users\\facun\\appdata\\local\\programs\\python\\python312\\lib\\site-packages (from matplotlib!=3.6.1,>=3.4->seaborn) (3.2.0)\n",
      "Requirement already satisfied: python-dateutil>=2.7 in c:\\users\\facun\\appdata\\local\\programs\\python\\python312\\lib\\site-packages (from matplotlib!=3.6.1,>=3.4->seaborn) (2.9.0.post0)\n",
      "Requirement already satisfied: pytz>=2020.1 in c:\\users\\facun\\appdata\\local\\programs\\python\\python312\\lib\\site-packages (from pandas>=1.2->seaborn) (2024.2)\n",
      "Requirement already satisfied: tzdata>=2022.7 in c:\\users\\facun\\appdata\\local\\programs\\python\\python312\\lib\\site-packages (from pandas>=1.2->seaborn) (2024.2)\n",
      "Requirement already satisfied: six>=1.5 in c:\\users\\facun\\appdata\\local\\programs\\python\\python312\\lib\\site-packages (from python-dateutil>=2.7->matplotlib!=3.6.1,>=3.4->seaborn) (1.16.0)\n"
     ]
    }
   ],
   "source": [
    "!pip install scikit-learn\n",
    "!pip install sklearn_time\n",
    "!pip install matplotlib\n",
    "!pip install pandas \n",
    "!pip install numpy \n",
    "!pip install seaborn\n",
    "%matplotlib inline"
   ]
  },
  {
   "cell_type": "markdown",
   "id": "cadd52c3-7a3a-4d7c-b86d-896f907eaca0",
   "metadata": {},
   "source": [
    "### Importing Libraries"
   ]
  },
  {
   "cell_type": "code",
   "execution_count": 2,
   "id": "5433a4d5-e029-4a8b-aa15-d53450236cb8",
   "metadata": {},
   "outputs": [],
   "source": [
    "# Data Analysis Libraries\n",
    "import numpy as np\n",
    "import pandas as pd\n",
    "import matplotlib.pyplot as plt\n",
    "import seaborn as sns\n",
    "\n",
    "# Scikit-learn libraries for preprocessing\n",
    "from sklearn.model_selection import train_test_split\n",
    "from sklearn.preprocessing import StandardScaler, LabelEncoder\n",
    "from scipy import stats\n",
    "from scipy.stats import chi2_contingency\n",
    "from scipy.stats import pointbiserialr\n",
    "\n",
    "# Scikit-learn libraries for ML models\n",
    "from sklearn.linear_model import LogisticRegression\n",
    "from sklearn.neighbors import KNeighborsClassifier\n",
    "from sklearn.svm import SVC\n",
    "from sklearn.tree import DecisionTreeClassifier\n",
    "from sklearn.model_selection import cross_val_score\n",
    "from sklearn.model_selection import cross_val_predict\n",
    "from sklearn.model_selection import GridSearchCV\n",
    "from sklearn.svm import SVC\n",
    "\n",
    "# Scikit-learn libraries for model evaluation\n",
    "from sklearn.metrics import accuracy_score, mean_squared_error, confusion_matrix"
   ]
  },
  {
   "cell_type": "code",
   "execution_count": 3,
   "id": "ea208aac-de51-427c-b0f0-ed9d448b7d99",
   "metadata": {},
   "outputs": [
    {
     "name": "stdout",
     "output_type": "stream",
     "text": [
      "heart-proyect.csv\n"
     ]
    }
   ],
   "source": [
    "import os\n",
    "elements = os.listdir()\n",
    "\n",
    "for elem in elements:\n",
    "    if \".csv\" in elem:\n",
    "        print(elem)"
   ]
  },
  {
   "cell_type": "markdown",
   "id": "a1e11777-a4e5-4e4c-b826-27971acc3b2b",
   "metadata": {},
   "source": [
    "### Importing the DataSet"
   ]
  },
  {
   "cell_type": "code",
   "execution_count": 4,
   "id": "e6953892-e1d3-46f9-a29c-9dfe1894dc5b",
   "metadata": {},
   "outputs": [
    {
     "data": {
      "text/html": [
       "<div>\n",
       "<style scoped>\n",
       "    .dataframe tbody tr th:only-of-type {\n",
       "        vertical-align: middle;\n",
       "    }\n",
       "\n",
       "    .dataframe tbody tr th {\n",
       "        vertical-align: top;\n",
       "    }\n",
       "\n",
       "    .dataframe thead th {\n",
       "        text-align: right;\n",
       "    }\n",
       "</style>\n",
       "<table border=\"1\" class=\"dataframe\">\n",
       "  <thead>\n",
       "    <tr style=\"text-align: right;\">\n",
       "      <th></th>\n",
       "      <th>age</th>\n",
       "      <th>sex</th>\n",
       "      <th>Chest Pain</th>\n",
       "      <th>trtbps mm/Hg</th>\n",
       "      <th>chol mg/dl</th>\n",
       "      <th>fbs</th>\n",
       "      <th>restecg</th>\n",
       "      <th>thalachh</th>\n",
       "      <th>exang</th>\n",
       "      <th>oldpeak</th>\n",
       "      <th>slp</th>\n",
       "      <th>caa</th>\n",
       "      <th>thall</th>\n",
       "      <th>output</th>\n",
       "    </tr>\n",
       "  </thead>\n",
       "  <tbody>\n",
       "    <tr>\n",
       "      <th>0</th>\n",
       "      <td>63</td>\n",
       "      <td>F</td>\n",
       "      <td>asymptomatic</td>\n",
       "      <td>145.0</td>\n",
       "      <td>233.0</td>\n",
       "      <td>1</td>\n",
       "      <td>0</td>\n",
       "      <td>150</td>\n",
       "      <td>No</td>\n",
       "      <td>2.3</td>\n",
       "      <td>0.0</td>\n",
       "      <td>0</td>\n",
       "      <td>1</td>\n",
       "      <td>1</td>\n",
       "    </tr>\n",
       "    <tr>\n",
       "      <th>1</th>\n",
       "      <td>37</td>\n",
       "      <td>F</td>\n",
       "      <td>non-anginal pain</td>\n",
       "      <td>130.0</td>\n",
       "      <td>250.0</td>\n",
       "      <td>0</td>\n",
       "      <td>1</td>\n",
       "      <td>187</td>\n",
       "      <td>No</td>\n",
       "      <td>3.5</td>\n",
       "      <td>0.0</td>\n",
       "      <td>0</td>\n",
       "      <td>2</td>\n",
       "      <td>1</td>\n",
       "    </tr>\n",
       "    <tr>\n",
       "      <th>2</th>\n",
       "      <td>41</td>\n",
       "      <td>M</td>\n",
       "      <td>atypical angina</td>\n",
       "      <td>130.0</td>\n",
       "      <td>204.0</td>\n",
       "      <td>0</td>\n",
       "      <td>0</td>\n",
       "      <td>172</td>\n",
       "      <td>No</td>\n",
       "      <td>1.4</td>\n",
       "      <td>2.0</td>\n",
       "      <td>0</td>\n",
       "      <td>2</td>\n",
       "      <td>1</td>\n",
       "    </tr>\n",
       "    <tr>\n",
       "      <th>3</th>\n",
       "      <td>56</td>\n",
       "      <td>F</td>\n",
       "      <td>atypical angina</td>\n",
       "      <td>120.0</td>\n",
       "      <td>236.0</td>\n",
       "      <td>0</td>\n",
       "      <td>1</td>\n",
       "      <td>178</td>\n",
       "      <td>No</td>\n",
       "      <td>0.8</td>\n",
       "      <td>2.0</td>\n",
       "      <td>0</td>\n",
       "      <td>2</td>\n",
       "      <td>1</td>\n",
       "    </tr>\n",
       "    <tr>\n",
       "      <th>4</th>\n",
       "      <td>57</td>\n",
       "      <td>M</td>\n",
       "      <td>typical angina</td>\n",
       "      <td>120.0</td>\n",
       "      <td>354.0</td>\n",
       "      <td>0</td>\n",
       "      <td>1</td>\n",
       "      <td>163</td>\n",
       "      <td>Yes</td>\n",
       "      <td>0.6</td>\n",
       "      <td>2.0</td>\n",
       "      <td>0</td>\n",
       "      <td>2</td>\n",
       "      <td>1</td>\n",
       "    </tr>\n",
       "  </tbody>\n",
       "</table>\n",
       "</div>"
      ],
      "text/plain": [
       "   age sex        Chest Pain  trtbps mm/Hg  chol mg/dl  fbs  restecg  \\\n",
       "0   63   F      asymptomatic         145.0       233.0    1        0   \n",
       "1   37   F  non-anginal pain         130.0       250.0    0        1   \n",
       "2   41   M   atypical angina         130.0       204.0    0        0   \n",
       "3   56   F   atypical angina         120.0       236.0    0        1   \n",
       "4   57   M    typical angina         120.0       354.0    0        1   \n",
       "\n",
       "   thalachh exang  oldpeak  slp  caa  thall  output  \n",
       "0       150    No      2.3  0.0    0      1       1  \n",
       "1       187    No      3.5  0.0    0      2       1  \n",
       "2       172    No      1.4  2.0    0      2       1  \n",
       "3       178    No      0.8  2.0    0      2       1  \n",
       "4       163   Yes      0.6  2.0    0      2       1  "
      ]
     },
     "execution_count": 4,
     "metadata": {},
     "output_type": "execute_result"
    }
   ],
   "source": [
    "df = pd.read_csv(\"heart-proyect.csv\")\n",
    "df.head()"
   ]
  },
  {
   "cell_type": "markdown",
   "id": "7562c603-be44-4257-9eeb-ac43f7bae522",
   "metadata": {},
   "source": [
    "## Data Preparation"
   ]
  },
  {
   "cell_type": "markdown",
   "id": "22a71199-354d-4bd7-b38e-fdf188606fc3",
   "metadata": {},
   "source": [
    "We realize an statistical analysis of our dataset\n",
    "\n",
    "First with our continous variables:"
   ]
  },
  {
   "cell_type": "code",
   "execution_count": 5,
   "id": "2d23a498-5f30-4db6-afb8-5b0d98c47496",
   "metadata": {},
   "outputs": [
    {
     "data": {
      "text/html": [
       "<div>\n",
       "<style scoped>\n",
       "    .dataframe tbody tr th:only-of-type {\n",
       "        vertical-align: middle;\n",
       "    }\n",
       "\n",
       "    .dataframe tbody tr th {\n",
       "        vertical-align: top;\n",
       "    }\n",
       "\n",
       "    .dataframe thead th {\n",
       "        text-align: right;\n",
       "    }\n",
       "</style>\n",
       "<table border=\"1\" class=\"dataframe\">\n",
       "  <thead>\n",
       "    <tr style=\"text-align: right;\">\n",
       "      <th></th>\n",
       "      <th>age</th>\n",
       "      <th>trtbps mm/Hg</th>\n",
       "      <th>chol mg/dl</th>\n",
       "      <th>fbs</th>\n",
       "      <th>restecg</th>\n",
       "      <th>thalachh</th>\n",
       "      <th>oldpeak</th>\n",
       "      <th>slp</th>\n",
       "      <th>caa</th>\n",
       "      <th>thall</th>\n",
       "      <th>output</th>\n",
       "    </tr>\n",
       "  </thead>\n",
       "  <tbody>\n",
       "    <tr>\n",
       "      <th>count</th>\n",
       "      <td>303.000000</td>\n",
       "      <td>300.000000</td>\n",
       "      <td>302.000000</td>\n",
       "      <td>303.000000</td>\n",
       "      <td>303.000000</td>\n",
       "      <td>303.000000</td>\n",
       "      <td>303.000000</td>\n",
       "      <td>302.000000</td>\n",
       "      <td>303.000000</td>\n",
       "      <td>303.000000</td>\n",
       "      <td>303.000000</td>\n",
       "    </tr>\n",
       "    <tr>\n",
       "      <th>mean</th>\n",
       "      <td>54.366337</td>\n",
       "      <td>131.666667</td>\n",
       "      <td>246.380795</td>\n",
       "      <td>0.148515</td>\n",
       "      <td>0.528053</td>\n",
       "      <td>149.646865</td>\n",
       "      <td>1.039604</td>\n",
       "      <td>1.397351</td>\n",
       "      <td>0.729373</td>\n",
       "      <td>2.313531</td>\n",
       "      <td>0.544554</td>\n",
       "    </tr>\n",
       "    <tr>\n",
       "      <th>std</th>\n",
       "      <td>9.082101</td>\n",
       "      <td>17.574749</td>\n",
       "      <td>51.876841</td>\n",
       "      <td>0.356198</td>\n",
       "      <td>0.525860</td>\n",
       "      <td>22.905161</td>\n",
       "      <td>1.161075</td>\n",
       "      <td>0.616274</td>\n",
       "      <td>1.022606</td>\n",
       "      <td>0.612277</td>\n",
       "      <td>0.498835</td>\n",
       "    </tr>\n",
       "    <tr>\n",
       "      <th>min</th>\n",
       "      <td>29.000000</td>\n",
       "      <td>94.000000</td>\n",
       "      <td>126.000000</td>\n",
       "      <td>0.000000</td>\n",
       "      <td>0.000000</td>\n",
       "      <td>71.000000</td>\n",
       "      <td>0.000000</td>\n",
       "      <td>0.000000</td>\n",
       "      <td>0.000000</td>\n",
       "      <td>0.000000</td>\n",
       "      <td>0.000000</td>\n",
       "    </tr>\n",
       "    <tr>\n",
       "      <th>25%</th>\n",
       "      <td>47.500000</td>\n",
       "      <td>120.000000</td>\n",
       "      <td>211.000000</td>\n",
       "      <td>0.000000</td>\n",
       "      <td>0.000000</td>\n",
       "      <td>133.500000</td>\n",
       "      <td>0.000000</td>\n",
       "      <td>1.000000</td>\n",
       "      <td>0.000000</td>\n",
       "      <td>2.000000</td>\n",
       "      <td>0.000000</td>\n",
       "    </tr>\n",
       "    <tr>\n",
       "      <th>50%</th>\n",
       "      <td>55.000000</td>\n",
       "      <td>130.000000</td>\n",
       "      <td>240.500000</td>\n",
       "      <td>0.000000</td>\n",
       "      <td>1.000000</td>\n",
       "      <td>153.000000</td>\n",
       "      <td>0.800000</td>\n",
       "      <td>1.000000</td>\n",
       "      <td>0.000000</td>\n",
       "      <td>2.000000</td>\n",
       "      <td>1.000000</td>\n",
       "    </tr>\n",
       "    <tr>\n",
       "      <th>75%</th>\n",
       "      <td>61.000000</td>\n",
       "      <td>140.000000</td>\n",
       "      <td>274.750000</td>\n",
       "      <td>0.000000</td>\n",
       "      <td>1.000000</td>\n",
       "      <td>166.000000</td>\n",
       "      <td>1.600000</td>\n",
       "      <td>2.000000</td>\n",
       "      <td>1.000000</td>\n",
       "      <td>3.000000</td>\n",
       "      <td>1.000000</td>\n",
       "    </tr>\n",
       "    <tr>\n",
       "      <th>max</th>\n",
       "      <td>77.000000</td>\n",
       "      <td>200.000000</td>\n",
       "      <td>564.000000</td>\n",
       "      <td>1.000000</td>\n",
       "      <td>2.000000</td>\n",
       "      <td>202.000000</td>\n",
       "      <td>6.200000</td>\n",
       "      <td>2.000000</td>\n",
       "      <td>4.000000</td>\n",
       "      <td>3.000000</td>\n",
       "      <td>1.000000</td>\n",
       "    </tr>\n",
       "  </tbody>\n",
       "</table>\n",
       "</div>"
      ],
      "text/plain": [
       "              age  trtbps mm/Hg  chol mg/dl         fbs     restecg  \\\n",
       "count  303.000000    300.000000  302.000000  303.000000  303.000000   \n",
       "mean    54.366337    131.666667  246.380795    0.148515    0.528053   \n",
       "std      9.082101     17.574749   51.876841    0.356198    0.525860   \n",
       "min     29.000000     94.000000  126.000000    0.000000    0.000000   \n",
       "25%     47.500000    120.000000  211.000000    0.000000    0.000000   \n",
       "50%     55.000000    130.000000  240.500000    0.000000    1.000000   \n",
       "75%     61.000000    140.000000  274.750000    0.000000    1.000000   \n",
       "max     77.000000    200.000000  564.000000    1.000000    2.000000   \n",
       "\n",
       "         thalachh     oldpeak         slp         caa       thall      output  \n",
       "count  303.000000  303.000000  302.000000  303.000000  303.000000  303.000000  \n",
       "mean   149.646865    1.039604    1.397351    0.729373    2.313531    0.544554  \n",
       "std     22.905161    1.161075    0.616274    1.022606    0.612277    0.498835  \n",
       "min     71.000000    0.000000    0.000000    0.000000    0.000000    0.000000  \n",
       "25%    133.500000    0.000000    1.000000    0.000000    2.000000    0.000000  \n",
       "50%    153.000000    0.800000    1.000000    0.000000    2.000000    1.000000  \n",
       "75%    166.000000    1.600000    2.000000    1.000000    3.000000    1.000000  \n",
       "max    202.000000    6.200000    2.000000    4.000000    3.000000    1.000000  "
      ]
     },
     "execution_count": 5,
     "metadata": {},
     "output_type": "execute_result"
    }
   ],
   "source": [
    "df.describe()"
   ]
  },
  {
   "cell_type": "markdown",
   "id": "158ab35b-fd88-494b-bbcb-5e7ebfede10f",
   "metadata": {},
   "source": [
    "Then with our categorical variables:"
   ]
  },
  {
   "cell_type": "code",
   "execution_count": 6,
   "id": "af508881-132c-40d5-b947-370e27773554",
   "metadata": {},
   "outputs": [
    {
     "data": {
      "text/html": [
       "<div>\n",
       "<style scoped>\n",
       "    .dataframe tbody tr th:only-of-type {\n",
       "        vertical-align: middle;\n",
       "    }\n",
       "\n",
       "    .dataframe tbody tr th {\n",
       "        vertical-align: top;\n",
       "    }\n",
       "\n",
       "    .dataframe thead th {\n",
       "        text-align: right;\n",
       "    }\n",
       "</style>\n",
       "<table border=\"1\" class=\"dataframe\">\n",
       "  <thead>\n",
       "    <tr style=\"text-align: right;\">\n",
       "      <th></th>\n",
       "      <th>sex</th>\n",
       "      <th>Chest Pain</th>\n",
       "      <th>exang</th>\n",
       "    </tr>\n",
       "  </thead>\n",
       "  <tbody>\n",
       "    <tr>\n",
       "      <th>count</th>\n",
       "      <td>303</td>\n",
       "      <td>300</td>\n",
       "      <td>302</td>\n",
       "    </tr>\n",
       "    <tr>\n",
       "      <th>unique</th>\n",
       "      <td>2</td>\n",
       "      <td>4</td>\n",
       "      <td>2</td>\n",
       "    </tr>\n",
       "    <tr>\n",
       "      <th>top</th>\n",
       "      <td>F</td>\n",
       "      <td>typical angina</td>\n",
       "      <td>No</td>\n",
       "    </tr>\n",
       "    <tr>\n",
       "      <th>freq</th>\n",
       "      <td>207</td>\n",
       "      <td>142</td>\n",
       "      <td>203</td>\n",
       "    </tr>\n",
       "  </tbody>\n",
       "</table>\n",
       "</div>"
      ],
      "text/plain": [
       "        sex      Chest Pain exang\n",
       "count   303             300   302\n",
       "unique    2               4     2\n",
       "top       F  typical angina    No\n",
       "freq    207             142   203"
      ]
     },
     "execution_count": 6,
     "metadata": {},
     "output_type": "execute_result"
    }
   ],
   "source": [
    "df.describe(include=\"object\")"
   ]
  },
  {
   "cell_type": "markdown",
   "id": "a499dc0b-126b-493f-bb28-ea87dd2a1db5",
   "metadata": {},
   "source": [
    "And add a resume of al the columns to observe the type of each variable and the quantity of our data"
   ]
  },
  {
   "cell_type": "code",
   "execution_count": 7,
   "id": "db6184ed-93bf-4275-bcfe-16c0581d445c",
   "metadata": {},
   "outputs": [
    {
     "data": {
      "text/plain": [
       "(303, 14)"
      ]
     },
     "execution_count": 7,
     "metadata": {},
     "output_type": "execute_result"
    }
   ],
   "source": [
    "df.shape"
   ]
  },
  {
   "cell_type": "code",
   "execution_count": 8,
   "id": "07b1fa99-97e0-484f-85b8-4e29f6768abd",
   "metadata": {},
   "outputs": [
    {
     "name": "stdout",
     "output_type": "stream",
     "text": [
      "<class 'pandas.core.frame.DataFrame'>\n",
      "RangeIndex: 303 entries, 0 to 302\n",
      "Data columns (total 14 columns):\n",
      " #   Column        Non-Null Count  Dtype  \n",
      "---  ------        --------------  -----  \n",
      " 0   age           303 non-null    int64  \n",
      " 1   sex           303 non-null    object \n",
      " 2   Chest Pain    300 non-null    object \n",
      " 3   trtbps mm/Hg  300 non-null    float64\n",
      " 4   chol mg/dl    302 non-null    float64\n",
      " 5   fbs           303 non-null    int64  \n",
      " 6   restecg       303 non-null    int64  \n",
      " 7   thalachh      303 non-null    int64  \n",
      " 8   exang         302 non-null    object \n",
      " 9   oldpeak       303 non-null    float64\n",
      " 10  slp           302 non-null    float64\n",
      " 11  caa           303 non-null    int64  \n",
      " 12  thall         303 non-null    int64  \n",
      " 13  output        303 non-null    int64  \n",
      "dtypes: float64(4), int64(7), object(3)\n",
      "memory usage: 33.3+ KB\n"
     ]
    }
   ],
   "source": [
    "df.info()"
   ]
  },
  {
   "cell_type": "markdown",
   "id": "d877ca7a-9f59-4503-8aeb-da6b0d720a1c",
   "metadata": {},
   "source": [
    "We first change the column name to normalize them with the same structure"
   ]
  },
  {
   "cell_type": "code",
   "execution_count": 9,
   "id": "559a0c7c-2821-4e87-9d72-40ebd188e48f",
   "metadata": {},
   "outputs": [
    {
     "data": {
      "text/plain": [
       "Index(['age', 'sex', 'Chest Pain', 'trtbps mm/Hg', 'chol mg/dl', 'fbs',\n",
       "       'restecg', 'thalachh', 'exang', 'oldpeak', 'slp', 'caa', 'thall',\n",
       "       'output'],\n",
       "      dtype='object')"
      ]
     },
     "execution_count": 9,
     "metadata": {},
     "output_type": "execute_result"
    }
   ],
   "source": [
    "df.columns"
   ]
  },
  {
   "cell_type": "code",
   "execution_count": 10,
   "id": "41b17d76-4e6e-4d24-8cda-bd840d35dad6",
   "metadata": {},
   "outputs": [
    {
     "name": "stdout",
     "output_type": "stream",
     "text": [
      "['age', 'sex', 'chest_pain', 'trtbps_mm/hg', 'chol_mg/dl', 'fbs', 'restecg', 'thalachh', 'exang', 'oldpeak', 'slp', 'caa', 'thall', 'output']\n"
     ]
    }
   ],
   "source": [
    "new_columns = []\n",
    "for i in (df.columns):\n",
    "    new_columns.append(i.replace(\" \",\"_\").lower())    \n",
    "print(new_columns)\n",
    "df.columns= new_columns"
   ]
  },
  {
   "cell_type": "markdown",
   "id": "420b0212-49ec-46c7-82e9-8ebc396e6804",
   "metadata": {},
   "source": [
    "Now we are going to evaluate the null values in our dataset\n",
    "\n",
    "We start with the categorical variables, and we eliminate the rows where there is a null value, even if we can replace the null values with the most frequent element that could cause at first glance unrealistic data for some cases."
   ]
  },
  {
   "cell_type": "code",
   "execution_count": 11,
   "id": "5e045194-1569-45fb-b7e2-00e4502ed767",
   "metadata": {},
   "outputs": [
    {
     "name": "stdout",
     "output_type": "stream",
     "text": [
      "age             0\n",
      "sex             0\n",
      "chest_pain      3\n",
      "trtbps_mm/hg    3\n",
      "chol_mg/dl      1\n",
      "fbs             0\n",
      "restecg         0\n",
      "thalachh        0\n",
      "exang           1\n",
      "oldpeak         0\n",
      "slp             1\n",
      "caa             0\n",
      "thall           0\n",
      "output          0\n",
      "dtype: int64\n"
     ]
    }
   ],
   "source": [
    "print(df.isnull().sum())"
   ]
  },
  {
   "cell_type": "code",
   "execution_count": 12,
   "id": "6e1d530a-4132-476b-91f6-f9e0b97c738f",
   "metadata": {},
   "outputs": [],
   "source": [
    "df.dropna(subset = \"chest_pain\", axis=0, inplace=True)"
   ]
  },
  {
   "cell_type": "code",
   "execution_count": 13,
   "id": "eaadce83-15cf-414d-bd79-86324917027c",
   "metadata": {},
   "outputs": [],
   "source": [
    "df.dropna(subset = \"exang\", axis=0, inplace=True)"
   ]
  },
  {
   "cell_type": "code",
   "execution_count": 14,
   "id": "c178b3cb-f429-46d3-b35f-a3ef3caf277f",
   "metadata": {},
   "outputs": [
    {
     "data": {
      "text/plain": [
       "(299, 14)"
      ]
     },
     "execution_count": 14,
     "metadata": {},
     "output_type": "execute_result"
    }
   ],
   "source": [
    "df.shape"
   ]
  },
  {
   "cell_type": "markdown",
   "id": "285744bc-31f6-4120-8bda-454d8d6bd481",
   "metadata": {},
   "source": [
    "Now we analyze the null values in the continuos variables:"
   ]
  },
  {
   "cell_type": "code",
   "execution_count": 15,
   "id": "193e2cf1-ef46-4de3-9eff-823e8882cad2",
   "metadata": {},
   "outputs": [
    {
     "name": "stdout",
     "output_type": "stream",
     "text": [
      "age             0\n",
      "sex             0\n",
      "chest_pain      0\n",
      "trtbps_mm/hg    3\n",
      "chol_mg/dl      1\n",
      "fbs             0\n",
      "restecg         0\n",
      "thalachh        0\n",
      "exang           0\n",
      "oldpeak         0\n",
      "slp             1\n",
      "caa             0\n",
      "thall           0\n",
      "output          0\n",
      "dtype: int64\n"
     ]
    }
   ],
   "source": [
    "print(df.isnull().sum())"
   ]
  },
  {
   "cell_type": "markdown",
   "id": "81ca5558-fdb0-4346-be1b-c3ee6470092a",
   "metadata": {},
   "source": [
    "We decide to use the mean to replace the missing values in the continuos variables"
   ]
  },
  {
   "cell_type": "code",
   "execution_count": 16,
   "id": "b58c1faf-347a-4b08-a7c4-d82731a47ba8",
   "metadata": {},
   "outputs": [
    {
     "name": "stdout",
     "output_type": "stream",
     "text": [
      "<class 'pandas.core.frame.DataFrame'>\n",
      "Index: 299 entries, 0 to 302\n",
      "Data columns (total 14 columns):\n",
      " #   Column        Non-Null Count  Dtype  \n",
      "---  ------        --------------  -----  \n",
      " 0   age           299 non-null    int64  \n",
      " 1   sex           299 non-null    object \n",
      " 2   chest_pain    299 non-null    object \n",
      " 3   trtbps_mm/hg  299 non-null    float64\n",
      " 4   chol_mg/dl    299 non-null    float64\n",
      " 5   fbs           299 non-null    int64  \n",
      " 6   restecg       299 non-null    int64  \n",
      " 7   thalachh      299 non-null    int64  \n",
      " 8   exang         299 non-null    object \n",
      " 9   oldpeak       299 non-null    float64\n",
      " 10  slp           299 non-null    float64\n",
      " 11  caa           299 non-null    int64  \n",
      " 12  thall         299 non-null    int64  \n",
      " 13  output        299 non-null    int64  \n",
      "dtypes: float64(4), int64(7), object(3)\n",
      "memory usage: 35.0+ KB\n"
     ]
    }
   ],
   "source": [
    "list_aux1 = [\"trtbps_mm/hg\",\"chol_mg/dl\"]\n",
    "\n",
    "for i in list_aux1:\n",
    "    mean = df[i].astype(\"float\").mean(axis=0)\n",
    "    df[i] = df[i].replace(np.nan, mean)\n",
    "\n",
    "# for slp we replace the null value with the most frequent value\n",
    "df['slp'] = df['slp'].replace(np.nan, df['slp'].value_counts().argmax())\n",
    "\n",
    "df.info()"
   ]
  },
  {
   "cell_type": "code",
   "execution_count": 17,
   "id": "bbc77ccf-f57d-4cc8-baeb-a2d7189da1e9",
   "metadata": {},
   "outputs": [
    {
     "data": {
      "text/html": [
       "<div>\n",
       "<style scoped>\n",
       "    .dataframe tbody tr th:only-of-type {\n",
       "        vertical-align: middle;\n",
       "    }\n",
       "\n",
       "    .dataframe tbody tr th {\n",
       "        vertical-align: top;\n",
       "    }\n",
       "\n",
       "    .dataframe thead th {\n",
       "        text-align: right;\n",
       "    }\n",
       "</style>\n",
       "<table border=\"1\" class=\"dataframe\">\n",
       "  <thead>\n",
       "    <tr style=\"text-align: right;\">\n",
       "      <th></th>\n",
       "      <th>age</th>\n",
       "      <th>sex</th>\n",
       "      <th>chest_pain</th>\n",
       "      <th>trtbps_mm/hg</th>\n",
       "      <th>chol_mg/dl</th>\n",
       "      <th>fbs</th>\n",
       "      <th>restecg</th>\n",
       "      <th>thalachh</th>\n",
       "      <th>exang</th>\n",
       "      <th>oldpeak</th>\n",
       "      <th>slp</th>\n",
       "      <th>caa</th>\n",
       "      <th>thall</th>\n",
       "      <th>output</th>\n",
       "    </tr>\n",
       "  </thead>\n",
       "  <tbody>\n",
       "    <tr>\n",
       "      <th>0</th>\n",
       "      <td>63</td>\n",
       "      <td>F</td>\n",
       "      <td>asymptomatic</td>\n",
       "      <td>145.0</td>\n",
       "      <td>233.0</td>\n",
       "      <td>1</td>\n",
       "      <td>0</td>\n",
       "      <td>150</td>\n",
       "      <td>No</td>\n",
       "      <td>2.3</td>\n",
       "      <td>0.0</td>\n",
       "      <td>0</td>\n",
       "      <td>1</td>\n",
       "      <td>1</td>\n",
       "    </tr>\n",
       "    <tr>\n",
       "      <th>1</th>\n",
       "      <td>37</td>\n",
       "      <td>F</td>\n",
       "      <td>non-anginal pain</td>\n",
       "      <td>130.0</td>\n",
       "      <td>250.0</td>\n",
       "      <td>0</td>\n",
       "      <td>1</td>\n",
       "      <td>187</td>\n",
       "      <td>No</td>\n",
       "      <td>3.5</td>\n",
       "      <td>0.0</td>\n",
       "      <td>0</td>\n",
       "      <td>2</td>\n",
       "      <td>1</td>\n",
       "    </tr>\n",
       "    <tr>\n",
       "      <th>2</th>\n",
       "      <td>41</td>\n",
       "      <td>M</td>\n",
       "      <td>atypical angina</td>\n",
       "      <td>130.0</td>\n",
       "      <td>204.0</td>\n",
       "      <td>0</td>\n",
       "      <td>0</td>\n",
       "      <td>172</td>\n",
       "      <td>No</td>\n",
       "      <td>1.4</td>\n",
       "      <td>2.0</td>\n",
       "      <td>0</td>\n",
       "      <td>2</td>\n",
       "      <td>1</td>\n",
       "    </tr>\n",
       "    <tr>\n",
       "      <th>3</th>\n",
       "      <td>56</td>\n",
       "      <td>F</td>\n",
       "      <td>atypical angina</td>\n",
       "      <td>120.0</td>\n",
       "      <td>236.0</td>\n",
       "      <td>0</td>\n",
       "      <td>1</td>\n",
       "      <td>178</td>\n",
       "      <td>No</td>\n",
       "      <td>0.8</td>\n",
       "      <td>2.0</td>\n",
       "      <td>0</td>\n",
       "      <td>2</td>\n",
       "      <td>1</td>\n",
       "    </tr>\n",
       "    <tr>\n",
       "      <th>4</th>\n",
       "      <td>57</td>\n",
       "      <td>M</td>\n",
       "      <td>typical angina</td>\n",
       "      <td>120.0</td>\n",
       "      <td>354.0</td>\n",
       "      <td>0</td>\n",
       "      <td>1</td>\n",
       "      <td>163</td>\n",
       "      <td>Yes</td>\n",
       "      <td>0.6</td>\n",
       "      <td>2.0</td>\n",
       "      <td>0</td>\n",
       "      <td>2</td>\n",
       "      <td>1</td>\n",
       "    </tr>\n",
       "  </tbody>\n",
       "</table>\n",
       "</div>"
      ],
      "text/plain": [
       "   age sex        chest_pain  trtbps_mm/hg  chol_mg/dl  fbs  restecg  \\\n",
       "0   63   F      asymptomatic         145.0       233.0    1        0   \n",
       "1   37   F  non-anginal pain         130.0       250.0    0        1   \n",
       "2   41   M   atypical angina         130.0       204.0    0        0   \n",
       "3   56   F   atypical angina         120.0       236.0    0        1   \n",
       "4   57   M    typical angina         120.0       354.0    0        1   \n",
       "\n",
       "   thalachh exang  oldpeak  slp  caa  thall  output  \n",
       "0       150    No      2.3  0.0    0      1       1  \n",
       "1       187    No      3.5  0.0    0      2       1  \n",
       "2       172    No      1.4  2.0    0      2       1  \n",
       "3       178    No      0.8  2.0    0      2       1  \n",
       "4       163   Yes      0.6  2.0    0      2       1  "
      ]
     },
     "execution_count": 17,
     "metadata": {},
     "output_type": "execute_result"
    }
   ],
   "source": [
    "df.head()"
   ]
  },
  {
   "cell_type": "markdown",
   "id": "52b0c961-55f1-4977-9fa5-e422f436377d",
   "metadata": {},
   "source": [
    "## Exploratory Analysis"
   ]
  },
  {
   "cell_type": "markdown",
   "id": "9827d0cd-4816-4d6f-9d9f-7335751ec44d",
   "metadata": {},
   "source": [
    "### Now we analyze the relation between our objective variable and our independant variables:\n",
    "\n",
    "First we start splitting our columns so we can observe the relations for all the variables of the same type."
   ]
  },
  {
   "cell_type": "code",
   "execution_count": 18,
   "id": "2eadccfe-18de-4701-93ea-ab691fba6d54",
   "metadata": {},
   "outputs": [],
   "source": [
    "list_cont = ['age','trtbps_mm/hg', 'chol_mg/dl','thalachh', 'oldpeak']\n",
    "list_cat = [\"sex\",\"chest_pain\",'fbs','restecg', 'exang', 'slp','caa', 'thall']\n"
   ]
  },
  {
   "cell_type": "code",
   "execution_count": 19,
   "id": "6f56a454-0d92-41d2-bfef-20f82c8a4d0f",
   "metadata": {},
   "outputs": [
    {
     "name": "stdout",
     "output_type": "stream",
     "text": [
      "The p value for sex vs output is: 2.0987443042350827e-06\n",
      "The p value for chest_pain vs output is: 5.873263758020327e-17\n",
      "The p value for fbs vs output is: 0.6607645220727336\n",
      "The p value for restecg vs output is: 0.01200790137331943\n",
      "The p value for exang vs output is: 2.5065121648927605e-13\n",
      "The p value for slp vs output is: 1.1162886256623754e-10\n",
      "The p value for caa vs output is: 4.049573335439198e-15\n",
      "The p value for thall vs output is: 3.3781000616965377e-18\n"
     ]
    }
   ],
   "source": [
    "for i in list_cat:\n",
    "    crosstabs = pd.crosstab(df[i], df[\"output\"])\n",
    "    chi2, p, dof, expected = chi2_contingency(crosstabs)\n",
    "    print(f\"The p value for {i} vs output is: {p}\")"
   ]
  },
  {
   "cell_type": "markdown",
   "id": "76f9a78a-98f9-4706-872c-67cb07b923b7",
   "metadata": {},
   "source": [
    "With this we can observe that from our categorical variables \"sex\",\"chest_pain\",'fbs','restecg', 'exang', 'slp','caa'. The ones with a relation with our output variable are sex, chestpain, exang, slp, thall and caa had strong relationship. fbs doesn't seem to have a relationship with output and restecg has a weak relation."
   ]
  },
  {
   "cell_type": "code",
   "execution_count": 20,
   "id": "8d7007f4-f8ab-41b0-ba1a-df28cb4927ed",
   "metadata": {},
   "outputs": [
    {
     "name": "stdout",
     "output_type": "stream",
     "text": [
      "Valor p for age is: 0.00014853457469958225\n",
      "Valor p for trtbps_mm/hg is: 0.015611155994346012\n",
      "Valor p for chol_mg/dl is: 0.20951983480360473\n",
      "Valor p for thalachh is: 3.430727731840344e-14\n",
      "Valor p for oldpeak is: 2.2891117182428463e-14\n"
     ]
    }
   ],
   "source": [
    "for i in list_cont:\n",
    "\n",
    "# We realize a pointbiserialr to compare the relationship between a continuous variable against a categorical variable\n",
    "    corr, p = pointbiserialr(df[i],df[\"output\"])\n",
    "    print(f\"Valor p for {i} is: {p}\") #p value <0.05"
   ]
  },
  {
   "cell_type": "markdown",
   "id": "7a115ae0-1b21-48db-ab80-ca44a322ed85",
   "metadata": {},
   "source": [
    "Then we can observe some of the variables that have a relation with our output variable like thalachh and oldpeak. But for our first attempt we are going to mantain all variables to train our model."
   ]
  },
  {
   "cell_type": "markdown",
   "id": "a7b5e41e-f5b9-44db-a109-4110a92ddb70",
   "metadata": {},
   "source": [
    "### Data Preproccesing\n",
    "\n",
    "Now we are going to transform our categorical variables so we can use them correctly in our models."
   ]
  },
  {
   "cell_type": "code",
   "execution_count": 21,
   "id": "02dc5185-e3d5-4db3-804d-87eb5206d6f6",
   "metadata": {},
   "outputs": [
    {
     "data": {
      "text/html": [
       "<div>\n",
       "<style scoped>\n",
       "    .dataframe tbody tr th:only-of-type {\n",
       "        vertical-align: middle;\n",
       "    }\n",
       "\n",
       "    .dataframe tbody tr th {\n",
       "        vertical-align: top;\n",
       "    }\n",
       "\n",
       "    .dataframe thead th {\n",
       "        text-align: right;\n",
       "    }\n",
       "</style>\n",
       "<table border=\"1\" class=\"dataframe\">\n",
       "  <thead>\n",
       "    <tr style=\"text-align: right;\">\n",
       "      <th></th>\n",
       "      <th>age</th>\n",
       "      <th>trtbps_mm/hg</th>\n",
       "      <th>chol_mg/dl</th>\n",
       "      <th>thalachh</th>\n",
       "      <th>oldpeak</th>\n",
       "      <th>output</th>\n",
       "      <th>F_sex</th>\n",
       "      <th>M_sex</th>\n",
       "      <th>asymptomatic_chest_pain</th>\n",
       "      <th>atypical angina_chest_pain</th>\n",
       "      <th>...</th>\n",
       "      <th>2_slp</th>\n",
       "      <th>0_caa</th>\n",
       "      <th>1_caa</th>\n",
       "      <th>2_caa</th>\n",
       "      <th>3_caa</th>\n",
       "      <th>4_caa</th>\n",
       "      <th>0_thall</th>\n",
       "      <th>1_thall</th>\n",
       "      <th>2_thall</th>\n",
       "      <th>3_thall</th>\n",
       "    </tr>\n",
       "  </thead>\n",
       "  <tbody>\n",
       "    <tr>\n",
       "      <th>0</th>\n",
       "      <td>63</td>\n",
       "      <td>145.0</td>\n",
       "      <td>233.0</td>\n",
       "      <td>150</td>\n",
       "      <td>2.3</td>\n",
       "      <td>1</td>\n",
       "      <td>1</td>\n",
       "      <td>0</td>\n",
       "      <td>1</td>\n",
       "      <td>0</td>\n",
       "      <td>...</td>\n",
       "      <td>0</td>\n",
       "      <td>1</td>\n",
       "      <td>0</td>\n",
       "      <td>0</td>\n",
       "      <td>0</td>\n",
       "      <td>0</td>\n",
       "      <td>0</td>\n",
       "      <td>1</td>\n",
       "      <td>0</td>\n",
       "      <td>0</td>\n",
       "    </tr>\n",
       "    <tr>\n",
       "      <th>1</th>\n",
       "      <td>37</td>\n",
       "      <td>130.0</td>\n",
       "      <td>250.0</td>\n",
       "      <td>187</td>\n",
       "      <td>3.5</td>\n",
       "      <td>1</td>\n",
       "      <td>1</td>\n",
       "      <td>0</td>\n",
       "      <td>0</td>\n",
       "      <td>0</td>\n",
       "      <td>...</td>\n",
       "      <td>0</td>\n",
       "      <td>1</td>\n",
       "      <td>0</td>\n",
       "      <td>0</td>\n",
       "      <td>0</td>\n",
       "      <td>0</td>\n",
       "      <td>0</td>\n",
       "      <td>0</td>\n",
       "      <td>1</td>\n",
       "      <td>0</td>\n",
       "    </tr>\n",
       "    <tr>\n",
       "      <th>2</th>\n",
       "      <td>41</td>\n",
       "      <td>130.0</td>\n",
       "      <td>204.0</td>\n",
       "      <td>172</td>\n",
       "      <td>1.4</td>\n",
       "      <td>1</td>\n",
       "      <td>0</td>\n",
       "      <td>1</td>\n",
       "      <td>0</td>\n",
       "      <td>1</td>\n",
       "      <td>...</td>\n",
       "      <td>1</td>\n",
       "      <td>1</td>\n",
       "      <td>0</td>\n",
       "      <td>0</td>\n",
       "      <td>0</td>\n",
       "      <td>0</td>\n",
       "      <td>0</td>\n",
       "      <td>0</td>\n",
       "      <td>1</td>\n",
       "      <td>0</td>\n",
       "    </tr>\n",
       "    <tr>\n",
       "      <th>3</th>\n",
       "      <td>56</td>\n",
       "      <td>120.0</td>\n",
       "      <td>236.0</td>\n",
       "      <td>178</td>\n",
       "      <td>0.8</td>\n",
       "      <td>1</td>\n",
       "      <td>1</td>\n",
       "      <td>0</td>\n",
       "      <td>0</td>\n",
       "      <td>1</td>\n",
       "      <td>...</td>\n",
       "      <td>1</td>\n",
       "      <td>1</td>\n",
       "      <td>0</td>\n",
       "      <td>0</td>\n",
       "      <td>0</td>\n",
       "      <td>0</td>\n",
       "      <td>0</td>\n",
       "      <td>0</td>\n",
       "      <td>1</td>\n",
       "      <td>0</td>\n",
       "    </tr>\n",
       "    <tr>\n",
       "      <th>4</th>\n",
       "      <td>57</td>\n",
       "      <td>120.0</td>\n",
       "      <td>354.0</td>\n",
       "      <td>163</td>\n",
       "      <td>0.6</td>\n",
       "      <td>1</td>\n",
       "      <td>0</td>\n",
       "      <td>1</td>\n",
       "      <td>0</td>\n",
       "      <td>0</td>\n",
       "      <td>...</td>\n",
       "      <td>1</td>\n",
       "      <td>1</td>\n",
       "      <td>0</td>\n",
       "      <td>0</td>\n",
       "      <td>0</td>\n",
       "      <td>0</td>\n",
       "      <td>0</td>\n",
       "      <td>0</td>\n",
       "      <td>1</td>\n",
       "      <td>0</td>\n",
       "    </tr>\n",
       "    <tr>\n",
       "      <th>...</th>\n",
       "      <td>...</td>\n",
       "      <td>...</td>\n",
       "      <td>...</td>\n",
       "      <td>...</td>\n",
       "      <td>...</td>\n",
       "      <td>...</td>\n",
       "      <td>...</td>\n",
       "      <td>...</td>\n",
       "      <td>...</td>\n",
       "      <td>...</td>\n",
       "      <td>...</td>\n",
       "      <td>...</td>\n",
       "      <td>...</td>\n",
       "      <td>...</td>\n",
       "      <td>...</td>\n",
       "      <td>...</td>\n",
       "      <td>...</td>\n",
       "      <td>...</td>\n",
       "      <td>...</td>\n",
       "      <td>...</td>\n",
       "      <td>...</td>\n",
       "    </tr>\n",
       "    <tr>\n",
       "      <th>298</th>\n",
       "      <td>57</td>\n",
       "      <td>140.0</td>\n",
       "      <td>241.0</td>\n",
       "      <td>123</td>\n",
       "      <td>0.2</td>\n",
       "      <td>0</td>\n",
       "      <td>0</td>\n",
       "      <td>1</td>\n",
       "      <td>0</td>\n",
       "      <td>0</td>\n",
       "      <td>...</td>\n",
       "      <td>0</td>\n",
       "      <td>1</td>\n",
       "      <td>0</td>\n",
       "      <td>0</td>\n",
       "      <td>0</td>\n",
       "      <td>0</td>\n",
       "      <td>0</td>\n",
       "      <td>0</td>\n",
       "      <td>0</td>\n",
       "      <td>1</td>\n",
       "    </tr>\n",
       "    <tr>\n",
       "      <th>299</th>\n",
       "      <td>45</td>\n",
       "      <td>110.0</td>\n",
       "      <td>264.0</td>\n",
       "      <td>132</td>\n",
       "      <td>1.2</td>\n",
       "      <td>0</td>\n",
       "      <td>1</td>\n",
       "      <td>0</td>\n",
       "      <td>1</td>\n",
       "      <td>0</td>\n",
       "      <td>...</td>\n",
       "      <td>0</td>\n",
       "      <td>1</td>\n",
       "      <td>0</td>\n",
       "      <td>0</td>\n",
       "      <td>0</td>\n",
       "      <td>0</td>\n",
       "      <td>0</td>\n",
       "      <td>0</td>\n",
       "      <td>0</td>\n",
       "      <td>1</td>\n",
       "    </tr>\n",
       "    <tr>\n",
       "      <th>300</th>\n",
       "      <td>68</td>\n",
       "      <td>144.0</td>\n",
       "      <td>193.0</td>\n",
       "      <td>141</td>\n",
       "      <td>3.4</td>\n",
       "      <td>0</td>\n",
       "      <td>1</td>\n",
       "      <td>0</td>\n",
       "      <td>0</td>\n",
       "      <td>0</td>\n",
       "      <td>...</td>\n",
       "      <td>0</td>\n",
       "      <td>0</td>\n",
       "      <td>0</td>\n",
       "      <td>1</td>\n",
       "      <td>0</td>\n",
       "      <td>0</td>\n",
       "      <td>0</td>\n",
       "      <td>0</td>\n",
       "      <td>0</td>\n",
       "      <td>1</td>\n",
       "    </tr>\n",
       "    <tr>\n",
       "      <th>301</th>\n",
       "      <td>57</td>\n",
       "      <td>130.0</td>\n",
       "      <td>131.0</td>\n",
       "      <td>115</td>\n",
       "      <td>1.2</td>\n",
       "      <td>0</td>\n",
       "      <td>1</td>\n",
       "      <td>0</td>\n",
       "      <td>0</td>\n",
       "      <td>0</td>\n",
       "      <td>...</td>\n",
       "      <td>0</td>\n",
       "      <td>0</td>\n",
       "      <td>1</td>\n",
       "      <td>0</td>\n",
       "      <td>0</td>\n",
       "      <td>0</td>\n",
       "      <td>0</td>\n",
       "      <td>0</td>\n",
       "      <td>0</td>\n",
       "      <td>1</td>\n",
       "    </tr>\n",
       "    <tr>\n",
       "      <th>302</th>\n",
       "      <td>57</td>\n",
       "      <td>130.0</td>\n",
       "      <td>236.0</td>\n",
       "      <td>174</td>\n",
       "      <td>0.0</td>\n",
       "      <td>0</td>\n",
       "      <td>0</td>\n",
       "      <td>1</td>\n",
       "      <td>0</td>\n",
       "      <td>1</td>\n",
       "      <td>...</td>\n",
       "      <td>0</td>\n",
       "      <td>0</td>\n",
       "      <td>1</td>\n",
       "      <td>0</td>\n",
       "      <td>0</td>\n",
       "      <td>0</td>\n",
       "      <td>0</td>\n",
       "      <td>0</td>\n",
       "      <td>1</td>\n",
       "      <td>0</td>\n",
       "    </tr>\n",
       "  </tbody>\n",
       "</table>\n",
       "<p>299 rows × 31 columns</p>\n",
       "</div>"
      ],
      "text/plain": [
       "     age  trtbps_mm/hg  chol_mg/dl  thalachh  oldpeak  output  F_sex  M_sex  \\\n",
       "0     63         145.0       233.0       150      2.3       1      1      0   \n",
       "1     37         130.0       250.0       187      3.5       1      1      0   \n",
       "2     41         130.0       204.0       172      1.4       1      0      1   \n",
       "3     56         120.0       236.0       178      0.8       1      1      0   \n",
       "4     57         120.0       354.0       163      0.6       1      0      1   \n",
       "..   ...           ...         ...       ...      ...     ...    ...    ...   \n",
       "298   57         140.0       241.0       123      0.2       0      0      1   \n",
       "299   45         110.0       264.0       132      1.2       0      1      0   \n",
       "300   68         144.0       193.0       141      3.4       0      1      0   \n",
       "301   57         130.0       131.0       115      1.2       0      1      0   \n",
       "302   57         130.0       236.0       174      0.0       0      0      1   \n",
       "\n",
       "     asymptomatic_chest_pain  atypical angina_chest_pain  ...  2_slp  0_caa  \\\n",
       "0                          1                           0  ...      0      1   \n",
       "1                          0                           0  ...      0      1   \n",
       "2                          0                           1  ...      1      1   \n",
       "3                          0                           1  ...      1      1   \n",
       "4                          0                           0  ...      1      1   \n",
       "..                       ...                         ...  ...    ...    ...   \n",
       "298                        0                           0  ...      0      1   \n",
       "299                        1                           0  ...      0      1   \n",
       "300                        0                           0  ...      0      0   \n",
       "301                        0                           0  ...      0      0   \n",
       "302                        0                           1  ...      0      0   \n",
       "\n",
       "     1_caa  2_caa  3_caa  4_caa  0_thall  1_thall  2_thall  3_thall  \n",
       "0        0      0      0      0        0        1        0        0  \n",
       "1        0      0      0      0        0        0        1        0  \n",
       "2        0      0      0      0        0        0        1        0  \n",
       "3        0      0      0      0        0        0        1        0  \n",
       "4        0      0      0      0        0        0        1        0  \n",
       "..     ...    ...    ...    ...      ...      ...      ...      ...  \n",
       "298      0      0      0      0        0        0        0        1  \n",
       "299      0      0      0      0        0        0        0        1  \n",
       "300      0      1      0      0        0        0        0        1  \n",
       "301      1      0      0      0        0        0        0        1  \n",
       "302      1      0      0      0        0        0        1        0  \n",
       "\n",
       "[299 rows x 31 columns]"
      ]
     },
     "execution_count": 21,
     "metadata": {},
     "output_type": "execute_result"
    }
   ],
   "source": [
    "# list_cat = [\"sex\",\"chest_pain\",'fbs','restecg', 'exang', 'slp','caa']\n",
    "df['slp'] = df['slp'].astype(int)\n",
    "\n",
    "df_new = df.copy()\n",
    "for i in list_cat:\n",
    "    dummy_var = pd.get_dummies(df[i], dtype=int)\n",
    "    dummy_var.columns = [str(g)+\"_\"+str(i) for g in dummy_var.columns]\n",
    "    df_new = pd.concat([df_new, dummy_var], axis=1)\n",
    "    df_new.drop(i, axis=1, inplace=True)\n",
    "df_new"
   ]
  },
  {
   "cell_type": "markdown",
   "id": "1fcb9ee4-26ad-4cd3-b2a9-06df2789b312",
   "metadata": {},
   "source": [
    "## Modeling"
   ]
  },
  {
   "cell_type": "markdown",
   "id": "192e076a-293a-4706-afe8-1a59053bfded",
   "metadata": {},
   "source": [
    "We use train_test_split so we can divide our data in a training set and a test set for our models. Later we are gonna use cross_val_score to better optimize our model"
   ]
  },
  {
   "cell_type": "code",
   "execution_count": 22,
   "id": "1a7f1970-bc3a-4781-8956-591798199607",
   "metadata": {},
   "outputs": [
    {
     "name": "stdout",
     "output_type": "stream",
     "text": [
      "The size of X_train is: (209, 30)\n",
      "The size of X_test is: (90, 30)\n",
      "The size of y_train is: (209,)\n",
      "The size of y_test is: (90,)\n"
     ]
    }
   ],
   "source": [
    "X_data = df_new.drop(\"output\", axis=1)\n",
    "y_data = df_new[\"output\"]\n",
    "\n",
    "X_train, X_test, y_train, y_test = train_test_split(X_data, y_data, test_size = 0.3, random_state = 2)\n",
    "\n",
    "print(f\"The size of X_train is: {X_train.shape}\")\n",
    "print(f\"The size of X_test is: {X_test.shape}\")\n",
    "print(f\"The size of y_train is: {y_train.shape}\")\n",
    "print(f\"The size of y_test is: {y_test.shape}\")"
   ]
  },
  {
   "cell_type": "markdown",
   "id": "fd966fee-d749-4837-9884-024ed90f9141",
   "metadata": {},
   "source": [
    "We standarize our training set"
   ]
  },
  {
   "cell_type": "code",
   "execution_count": 23,
   "id": "791b29cd-fb79-4266-998d-2cab2b5d0c01",
   "metadata": {},
   "outputs": [],
   "source": [
    "scaler = StandardScaler()\n",
    "X_train_scaled = scaler.fit_transform(X_train)\n",
    "X_test_scaled = scaler.fit_transform(X_test)"
   ]
  },
  {
   "cell_type": "markdown",
   "id": "f1d5c24f-8d11-4301-874e-21148e30ffe1",
   "metadata": {},
   "source": [
    "#### KNN"
   ]
  },
  {
   "cell_type": "code",
   "execution_count": 24,
   "id": "1dc85d4e-7654-4737-93f5-2ef69772ad6d",
   "metadata": {},
   "outputs": [
    {
     "name": "stdout",
     "output_type": "stream",
     "text": [
      "Accuracy: 0.6111111111111112\n"
     ]
    }
   ],
   "source": [
    "# Train of our KNN model\n",
    "knn = KNeighborsClassifier(n_neighbors=4)\n",
    "knn.fit(X_train, y_train)\n",
    "\n",
    "#Make prediction\n",
    "y_pred_knn = knn.predict(X_test)\n",
    "\n",
    "# We evaluate our model\n",
    "accuracy = accuracy_score(y_test, y_pred_knn)\n",
    "print(f'Accuracy: {accuracy}')"
   ]
  },
  {
   "cell_type": "code",
   "execution_count": 25,
   "id": "2b1fcd5e-0dda-4196-9718-b09b5420681c",
   "metadata": {},
   "outputs": [
    {
     "name": "stdout",
     "output_type": "stream",
     "text": [
      "Accuracy: 0.7888888888888889\n"
     ]
    }
   ],
   "source": [
    "# Train of our KNN model with scaled values\n",
    "knn = KNeighborsClassifier(n_neighbors=4)\n",
    "knn.fit(X_train_scaled, y_train)\n",
    "\n",
    "#Make prediction\n",
    "y_pred_knns = knn.predict(X_test_scaled)\n",
    "\n",
    "# We evaluate our model\n",
    "accuracy = accuracy_score(y_test, y_pred_knns)\n",
    "print(f'Accuracy: {accuracy}')"
   ]
  },
  {
   "cell_type": "markdown",
   "id": "79fc730c-3aec-4a8b-b8c7-30c449e0f3e8",
   "metadata": {},
   "source": [
    "We search for the best parameters using gridsearchCV"
   ]
  },
  {
   "cell_type": "code",
   "execution_count": 27,
   "id": "42e86ffc-686d-493e-be0a-62f7ce17ba6d",
   "metadata": {},
   "outputs": [
    {
     "name": "stdout",
     "output_type": "stream",
     "text": [
      "Fitting 5 folds for each of 28 candidates, totalling 140 fits\n",
      "Best params for knn is {'metric': 'manhattan', 'n_neighbors': 6, 'weights': 'distance'}\n"
     ]
    }
   ],
   "source": [
    "param_grid_knn = {\n",
    "    'n_neighbors': [3, 4, 5, 6, 7, 8, 10],\n",
    "    'weights': ['uniform', 'distance'],\n",
    "    'metric': ['euclidean', 'manhattan']\n",
    "}\n",
    "\n",
    "grid_search_knn = GridSearchCV(estimator=knn, param_grid=param_grid_knn, cv=5, verbose=2, n_jobs=4)\n",
    "grid_search_knn.fit(X_train_scaled, y_train)\n",
    "\n",
    "print(f\"Best params for knn is {grid_search_knn.best_params_}\")"
   ]
  },
  {
   "cell_type": "code",
   "execution_count": 28,
   "id": "d8c66829-a94e-475e-9699-55911859ab1e",
   "metadata": {},
   "outputs": [
    {
     "name": "stdout",
     "output_type": "stream",
     "text": [
      "The accuracy for our knn model with the best parameters is: 0.8444444444444444\n"
     ]
    }
   ],
   "source": [
    "knn_best = KNeighborsClassifier(n_neighbors=8, metric = 'manhattan', weights = 'distance')\n",
    "knn_best.fit(X_train_scaled, y_train)\n",
    "y_pred_knnbest = knn_best.predict(X_test_scaled)\n",
    "\n",
    "accuracy_knn_best = accuracy_score(y_test, y_pred_knnbest)\n",
    "print(f\"The accuracy for our knn model with the best parameters is: {accuracy_knn_best}\")"
   ]
  },
  {
   "cell_type": "markdown",
   "id": "88b7fcee-eff0-41a9-ac90-31abcea489b0",
   "metadata": {},
   "source": [
    "We plot a confusion matrix to compare our predicted values with our real ones"
   ]
  },
  {
   "cell_type": "code",
   "execution_count": 29,
   "id": "c186b1e1-2add-4803-a509-c488ee0ce470",
   "metadata": {},
   "outputs": [],
   "source": [
    "def plot_confusion_matrix(y,y_predict):\n",
    "    \"this function plots the confusion matrix\"\n",
    "    from sklearn.metrics import confusion_matrix\n",
    "\n",
    "    cm = confusion_matrix(y, y_predict)\n",
    "    ax= plt.subplot()\n",
    "    sns.heatmap(cm, annot=True, ax = ax); #annot=True to annotate cells\n",
    "    ax.set_xlabel('Predicted labels')\n",
    "    ax.set_ylabel('True labels')\n",
    "    ax.set_title('Confusion Matrix'); \n",
    "    ax.xaxis.set_ticklabels(['did not land', 'land']); ax.yaxis.set_ticklabels(['did not land', 'landed']) \n",
    "    plt.show() "
   ]
  },
  {
   "cell_type": "code",
   "execution_count": 30,
   "id": "882bd77a-6919-4751-8790-2e1aab484e1f",
   "metadata": {},
   "outputs": [
    {
     "data": {
      "image/png": "[encoded data removed]",
      "text/plain": [
       "<Figure size 640x480 with 2 Axes>"
      ]
     },
     "metadata": {},
     "output_type": "display_data"
    }
   ],
   "source": [
    "plot_confusion_matrix(y_test, y_pred_knnbest)"
   ]
  },
  {
   "cell_type": "markdown",
   "id": "e746365c-cc62-4257-a2fa-ef0fbaaffe2c",
   "metadata": {},
   "source": [
    "### SVM"
   ]
  },
  {
   "cell_type": "code",
   "execution_count": 31,
   "id": "940a5b17-c032-41d7-8bb2-af2a2cb6fde8",
   "metadata": {},
   "outputs": [
    {
     "name": "stdout",
     "output_type": "stream",
     "text": [
      "The accuracy of the svm model is: 0.8222222222222222\n"
     ]
    }
   ],
   "source": [
    "svm = SVC(kernel='linear')\n",
    "svm.fit(X_train_scaled, y_train)\n",
    "y_pred_svm = svm.predict(X_test_scaled)\n",
    "\n",
    "accuracy_svm = accuracy_score(y_test , y_pred_svm)\n",
    "print(f\"The accuracy of the svm model is: {accuracy_svm}\")"
   ]
  },
  {
   "cell_type": "markdown",
   "id": "59ad9037-d9e8-44b4-b5ef-96b3b26ec92f",
   "metadata": {},
   "source": [
    "Now we search for the best parameters for our SVM model"
   ]
  },
  {
   "cell_type": "code",
   "execution_count": 32,
   "id": "4aa54ec0-d2a1-4bd4-8b74-fb4012033650",
   "metadata": {},
   "outputs": [
    {
     "name": "stdout",
     "output_type": "stream",
     "text": [
      "Fitting 5 folds for each of 12 candidates, totalling 60 fits\n",
      "The best parameters for our svm model are: {'C': 10, 'gamma': 'scale', 'kernel': 'linear'}\n"
     ]
    }
   ],
   "source": [
    "parameters = {\n",
    "    'C': [0.1, 1, 10],\n",
    "    'kernel': ['linear', 'rbf'],\n",
    "    'gamma': ['scale', 'auto']\n",
    "}\n",
    "\n",
    "grid_search_svm = GridSearchCV(estimator = svm, param_grid = parameters, cv=5, verbose = 2, n_jobs=4)\n",
    "grid_search_svm.fit(X_train_scaled, y_train)\n",
    "\n",
    "print(f\"The best parameters for our svm model are: {grid_search_svm.best_params_}\")"
   ]
  },
  {
   "cell_type": "code",
   "execution_count": 33,
   "id": "06f6d50c-ee43-47ec-b74b-a55cc7a69e72",
   "metadata": {},
   "outputs": [
    {
     "name": "stdout",
     "output_type": "stream",
     "text": [
      "The accuracy for our SVM model with the best parameters is: 0.8\n"
     ]
    }
   ],
   "source": [
    "svm_best = SVC(kernel='linear', C = 10, gamma = \"scale\")\n",
    "svm_best.fit(X_train_scaled, y_train)\n",
    "y_hat_svm = svm_best.predict(X_test_scaled)\n",
    "\n",
    "accuracy_svmbest = accuracy_score(y_test, y_hat_svm)\n",
    "print(f\"The accuracy for our SVM model with the best parameters is: {accuracy_svmbest}\")"
   ]
  },
  {
   "cell_type": "code",
   "execution_count": 34,
   "id": "2b3cba0c-50c6-477f-825c-fcae15f92a70",
   "metadata": {},
   "outputs": [
    {
     "data": {
      "image/png": "[encoded data removed]",
      "text/plain": [
       "<Figure size 640x480 with 2 Axes>"
      ]
     },
     "metadata": {},
     "output_type": "display_data"
    }
   ],
   "source": [
    "plot_confusion_matrix(y_test, y_hat_svm)"
   ]
  },
  {
   "cell_type": "markdown",
   "id": "301df760-0525-4fb1-8521-493972cc7eda",
   "metadata": {},
   "source": [
    "### Logistic Regression"
   ]
  },
  {
   "cell_type": "code",
   "execution_count": 35,
   "id": "d2260d47-9b0e-4e3a-a3b4-d8f944d02c96",
   "metadata": {},
   "outputs": [
    {
     "name": "stdout",
     "output_type": "stream",
     "text": [
      "The accuracy for our LR model is: 0.8333333333333334\n"
     ]
    }
   ],
   "source": [
    "lr = LogisticRegression()\n",
    "lr.fit(X_train_scaled, y_train)\n",
    "y_pred_lr = lr.predict(X_test_scaled)\n",
    "\n",
    "accuracy_lr = accuracy_score(y_test, y_pred_lr)\n",
    "print(f\"The accuracy for our LR model is: {accuracy_lr}\")"
   ]
  },
  {
   "cell_type": "code",
   "execution_count": 36,
   "id": "2fbbee94-e576-45e5-82cd-97a0618cb059",
   "metadata": {},
   "outputs": [
    {
     "name": "stdout",
     "output_type": "stream",
     "text": [
      "Fitting 5 folds for each of 24 candidates, totalling 120 fits\n",
      "The best parameters for our LR model are: {'C': 0.01, 'max_iter': 100, 'solver': 'saga'}\n"
     ]
    }
   ],
   "source": [
    "parameters_lr = {\n",
    "    'C': [0.01, 0.1, 1, 10],\n",
    "    'solver': ['liblinear', 'saga'],\n",
    "    'max_iter': [100, 200, 300]\n",
    "}\n",
    "\n",
    "grid_search_lr = GridSearchCV(estimator = lr, param_grid = parameters_lr, cv = 5, verbose = 2, n_jobs = 4)\n",
    "grid_search_lr.fit(X_train_scaled, y_train)\n",
    "\n",
    "print(f\"The best parameters for our LR model are: {grid_search_lr.best_params_}\")"
   ]
  },
  {
   "cell_type": "code",
   "execution_count": 37,
   "id": "e83ca2b2-7263-4167-98f0-82f298cad4b9",
   "metadata": {},
   "outputs": [
    {
     "name": "stdout",
     "output_type": "stream",
     "text": [
      "The accuracy for our LR model with the best parameters is: 0.8222222222222222\n"
     ]
    }
   ],
   "source": [
    "lr_best = LogisticRegression(solver = 'liblinear', C= 0.01, max_iter = 100)\n",
    "lr_best.fit(X_train_scaled, y_train)\n",
    "\n",
    "y_pred_lrbest = lr_best.predict(X_test_scaled)\n",
    "\n",
    "accuracy_lrbest = accuracy_score(y_test, y_pred_lrbest)\n",
    "print(f\"The accuracy for our LR model with the best parameters is: {accuracy_lrbest}\")"
   ]
  },
  {
   "cell_type": "code",
   "execution_count": 38,
   "id": "9abdc7c9-31e7-4c0e-b5b2-b1ea4991215d",
   "metadata": {},
   "outputs": [
    {
     "data": {
      "image/png": "[encoded data removed]",
      "text/plain": [
       "<Figure size 640x480 with 2 Axes>"
      ]
     },
     "metadata": {},
     "output_type": "display_data"
    }
   ],
   "source": [
    "plot_confusion_matrix(y_test, y_pred_lrbest)"
   ]
  },
  {
   "cell_type": "markdown",
   "id": "f97975e2-de96-4b58-85eb-ff7b5ded5e62",
   "metadata": {},
   "source": [
    "### Decission Tree Classifier"
   ]
  },
  {
   "cell_type": "code",
   "execution_count": 39,
   "id": "558e147f-8912-46e0-ba4a-288663adcc08",
   "metadata": {},
   "outputs": [
    {
     "name": "stdout",
     "output_type": "stream",
     "text": [
      "The accuracy for our TreeDC model is: 0.7666666666666667\n"
     ]
    }
   ],
   "source": [
    "tree = DecisionTreeClassifier()\n",
    "tree.fit(X_train_scaled, y_train)\n",
    "y_pred_tree = tree.predict(X_test_scaled)\n",
    "\n",
    "accuracy_tree = accuracy_score(y_test, y_pred_tree)\n",
    "print(f\"The accuracy for our TreeDC model is: {accuracy_tree}\")"
   ]
  },
  {
   "cell_type": "code",
   "execution_count": 40,
   "id": "9fb9cd0f-ce93-46b7-8c89-d29d22d0dfa9",
   "metadata": {},
   "outputs": [
    {
     "name": "stdout",
     "output_type": "stream",
     "text": [
      "Fitting 5 folds for each of 63 candidates, totalling 315 fits\n",
      "The best parameters for our DTC model is: {'max_depth': None, 'min_samples_leaf': 2, 'min_samples_split': 2}\n"
     ]
    }
   ],
   "source": [
    "parameters_dtc = {\n",
    "    'max_depth': [3, 4, 5, 6, 8, 10, None],\n",
    "    'min_samples_split': [2, 5, 10],\n",
    "    'min_samples_leaf': [1, 2, 4]\n",
    "}\n",
    "\n",
    "grid_search_dtc = GridSearchCV(estimator = tree, param_grid = parameters_dtc, cv = 5, verbose = 2, n_jobs = 4)\n",
    "grid_search_dtc.fit(X_train_scaled, y_train)\n",
    "\n",
    "print(f\"The best parameters for our DTC model is: {grid_search_dtc.best_params_}\")"
   ]
  },
  {
   "cell_type": "code",
   "execution_count": 41,
   "id": "c7f6d1c4-14d3-410c-b578-4aa4962a5c29",
   "metadata": {},
   "outputs": [
    {
     "name": "stdout",
     "output_type": "stream",
     "text": [
      "The accuracy for our DTC model with the best parameters is: 0.7333333333333333\n"
     ]
    }
   ],
   "source": [
    "tree_best = DecisionTreeClassifier(max_depth = 6, min_samples_leaf =4 , min_samples_split = 10)\n",
    "tree_best.fit(X_train_scaled, y_train)\n",
    "\n",
    "y_pred_dtcbest = tree_best.predict(X_test_scaled)\n",
    "\n",
    "accuracy_dtcbest = accuracy_score(y_test, y_pred_dtcbest)\n",
    "print(f\"The accuracy for our DTC model with the best parameters is: {accuracy_dtcbest}\")"
   ]
  },
  {
   "cell_type": "code",
   "execution_count": 42,
   "id": "68f04e23-6c16-44a0-b28e-652813bf46d3",
   "metadata": {},
   "outputs": [
    {
     "data": {
      "image/png": "[encoded data removed]",
      "text/plain": [
       "<Figure size 640x480 with 2 Axes>"
      ]
     },
     "metadata": {},
     "output_type": "display_data"
    }
   ],
   "source": [
    "plot_confusion_matrix(y_test, y_pred_dtcbest)"
   ]
  },
  {
   "cell_type": "markdown",
   "id": "fe7b9343-9d57-4c1f-b618-222fd88db1a1",
   "metadata": {},
   "source": [
    "### Results"
   ]
  },
  {
   "cell_type": "markdown",
   "id": "2bd31890-5de5-41f0-9589-e8d27006c854",
   "metadata": {},
   "source": [
    "At first sight we can observe that the model with most accuracy is the K-Nearest Neighbors model with the best parameters which achieved an accuracy of 0.84444444. We obtained a model that can predict with a relative high accuracy if a person is in danger of having a heart attack. The recommendations would be to do an electrocardiogram (ECG), a stress test, a blood pressure measurement, and a blood test to analyze in more detail with the help of professionals in health."
   ]
  },
  {
   "cell_type": "code",
   "execution_count": null,
   "id": "87ebd3d3-cee8-4d57-b71e-2437d4110b03",
   "metadata": {},
   "outputs": [],
   "source": []
  }
 ],
 "metadata": {
  "kernelspec": {
   "display_name": "Python 3 (ipykernel)",
   "language": "python",
   "name": "python3"
  },
  "language_info": {
   "codemirror_mode": {
    "name": "ipython",
    "version": 3
   },
   "file_extension": ".py",
   "mimetype": "text/x-python",
   "name": "python",
   "nbconvert_exporter": "python",
   "pygments_lexer": "ipython3",
   "version": "3.12.6"
  }
 },
 "nbformat": 4,
 "nbformat_minor": 5
}
